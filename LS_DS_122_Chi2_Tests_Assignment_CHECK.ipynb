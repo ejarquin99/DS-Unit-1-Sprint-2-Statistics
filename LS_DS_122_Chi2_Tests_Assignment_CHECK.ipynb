{
  "nbformat": 4,
  "nbformat_minor": 0,
  "metadata": {
    "colab": {
      "name": "LS_DS_122_Chi2_Tests_Assignment_CHECK.ipynb",
      "provenance": [],
      "collapsed_sections": [],
      "include_colab_link": true
    },
    "kernelspec": {
      "name": "python3",
      "display_name": "Python 3"
    }
  },
  "cells": [
    {
      "cell_type": "markdown",
      "metadata": {
        "id": "view-in-github",
        "colab_type": "text"
      },
      "source": [
        "<a href=\"https://colab.research.google.com/github/ejarquin99/DS-Unit-1-Sprint-2-Statistics/blob/master/LS_DS_122_Chi2_Tests_Assignment_CHECK.ipynb\" target=\"_parent\"><img src=\"https://colab.research.google.com/assets/colab-badge.svg\" alt=\"Open In Colab\"/></a>"
      ]
    },
    {
      "cell_type": "markdown",
      "metadata": {
        "id": "11OzdxWTM7UR"
      },
      "source": [
        "# Lambda School Data Science - Unit 1 Sprint 2 Module 2\n",
        "\n",
        "---\n",
        "\n",
        "## Assignment: Hypothesis Testing (chi-square tests)\n"
      ]
    },
    {
      "cell_type": "markdown",
      "metadata": {
        "id": "ceuawtROodfW"
      },
      "source": [
        "# Objectives\n",
        "\n",
        "* Objective 01 - explain the purpose of a chi-square test and identify applications\n",
        "* Objective 02 - set up a chi-square test for independence on two categorical variables\n",
        "* Objective 03 - use a chi-square test p-value to draw the correct conclusion about the null and alternative hypothesis\n",
        "* Objective 04 - explain how to compare the null hypothesis and sample and how randomness in the sampling process affect the result\n",
        "\n"
      ]
    },
    {
      "cell_type": "markdown",
      "metadata": {
        "id": "Q6x9gnZ4mY84"
      },
      "source": [
        "\n",
        "\n",
        "### Dataset description:\n",
        "\n",
        "Slasher movies thrill audiences by portraying a lone antagonist (typically male) who attacks innocent victims with extreme violence and without apparent motive. However, this exciting (if gory) subgenre of horror film is criticized by those who view the violence as being used to “punish” female characters who engage in sexual activity during the film. \n",
        "\n",
        "To test this claim, study authors randomly sampled 50 North American slasher films released from 1960 to 2009 and coded the 485 characters appearing in them as being male or female, involved in sexual activity or not, and if they survived the film or not. \n",
        "\n",
        "The data appears in the Slasher.csv dataset. In this project, we are going to answer a slightly simpler question: Are female characters in slasher films more likely to be \"murdered\" than male characters?\n",
        "\n",
        "Source: A. Welsh (2010). \"On the Perils of Living Dangerously in the Slasher Horror Film: Gender Differences in the Association Between Sexual Activity and Survival,\" Sex Roles, Vol. 62 pp. 762-773\n",
        "\n",
        "You can find the Slasher.csv file here:\n",
        "\n",
        "<https://raw.githubusercontent.com/Chelsea-Myers/Lambda-Intro/master/Slasher.csv>\n",
        "\n"
      ]
    },
    {
      "cell_type": "markdown",
      "metadata": {
        "id": "QnqpG9fOaUy-"
      },
      "source": [
        "### 1) Load the Slasher.csv dataset in a new dataframe. \n",
        "\n",
        "* Call your DataFrame `slasher_df`\n",
        "* set `skipinitialspace=True`\n",
        "* set `header=0`\n"
      ]
    },
    {
      "cell_type": "code",
      "metadata": {
        "id": "UQwvrhn7m3Mn"
      },
      "source": [
        "# Imports (we won't provide these for every assignment!)\n",
        "import pandas as pd\n",
        "import numpy as np\n",
        "\n",
        "# Load the dataset\n",
        "slasher_df = pd.read_csv('https://raw.githubusercontent.com/Chelsea-Myers/Lambda-Intro/master/Slasher.csv', skipinitialspace = True, header = 0)\n",
        "\n"
      ],
      "execution_count": null,
      "outputs": []
    },
    {
      "cell_type": "markdown",
      "metadata": {
        "id": "OoCPEb_uKjHU"
      },
      "source": [
        "### Answer checks\n",
        "\n",
        "We're going to continue using the assert statements we used in the Module 1 Project (assignment) to check our work. The cells with the `assert` statements can be skipped or deleted but you should try to leave them in. Remember - it's a way to check your work as you go through this Module Project and also get some feedback if you have an error."
      ]
    },
    {
      "cell_type": "markdown",
      "metadata": {
        "id": "llP1_XV0ak8C"
      },
      "source": [
        "###2) Display the top 5 rows of the dataframe to take a look at the variable names and values."
      ]
    },
    {
      "cell_type": "code",
      "metadata": {
        "id": "Ws10E-kqayJZ",
        "outputId": "0ef897ec-7961-4539-bc28-13bff9c4b2b7",
        "colab": {
          "base_uri": "https://localhost:8080/",
          "height": 372
        }
      },
      "source": [
        "print(slasher_df.head())\n",
        "print(slasher_df.dtypes)\n",
        "print(slasher_df.describe())\n",
        "\n"
      ],
      "execution_count": null,
      "outputs": [
        {
          "output_type": "stream",
          "text": [
            "   ID  Gender  Activity  Survival\n",
            "0   1       1         1         1\n",
            "1   2       1         1         1\n",
            "2   3       1         1         1\n",
            "3   4       1         1         1\n",
            "4   5       1         1         1\n",
            "ID          int64\n",
            "Gender      int64\n",
            "Activity    int64\n",
            "Survival    int64\n",
            "dtype: object\n",
            "               ID      Gender    Activity    Survival\n",
            "count  485.000000  485.000000  485.000000  485.000000\n",
            "mean   243.000000    0.457732    0.323711    0.175258\n",
            "std    140.151704    0.498725    0.468374    0.380580\n",
            "min      1.000000    0.000000    0.000000    0.000000\n",
            "25%    122.000000    0.000000    0.000000    0.000000\n",
            "50%    243.000000    0.000000    0.000000    0.000000\n",
            "75%    364.000000    1.000000    1.000000    0.000000\n",
            "max    485.000000    1.000000    1.000000    1.000000\n"
          ],
          "name": "stdout"
        }
      ]
    },
    {
      "cell_type": "code",
      "metadata": {
        "id": "hOcou0czLF6l",
        "outputId": "326b9b6a-c663-48ea-eb51-1696b46597cd",
        "colab": {
          "base_uri": "https://localhost:8080/",
          "height": 35
        }
      },
      "source": [
        "# This is an ANSWER CHECK cell.\n",
        "# Don't alter this cell if you want accurate feedback\n",
        "#------------------------------------------------------------------------------#\n",
        "\n",
        "# check if the DataFrame was created\n",
        "assert not slasher_df.empty, 'Make sure the df name is accurate and you loaded the correct URL.'\n",
        "# check the shape of the DataFrame\n",
        "assert slasher_df.shape == (485, 4), 'Is your data loaded with the correct argument?'\n",
        "print('Correct! Continue to the next question')"
      ],
      "execution_count": null,
      "outputs": [
        {
          "output_type": "stream",
          "text": [
            "Correct! Continue to the next question\n"
          ],
          "name": "stdout"
        }
      ]
    },
    {
      "cell_type": "markdown",
      "metadata": {
        "id": "PAHPjE4Ea52w"
      },
      "source": [
        "In this dataset, the variable codes are:\n",
        "\n",
        "* ID = Character ID\n",
        "* Gender = Character gender.  0 = female, 1 = male\n",
        "* Activity = Character was portrayed as engaged in sexual activity.  0 = no, 1 = yes\n",
        "* Survival = Character survival in the film. 0 = did not survive, 1 = survived"
      ]
    },
    {
      "cell_type": "markdown",
      "metadata": {
        "id": "pabzhfvLbdFZ"
      },
      "source": [
        "###3) Calculate the frequency and relative frequency of male and female characters in this set of slasher films.  Describe your results in a sentence or two and use your results to answer the question below."
      ]
    },
    {
      "cell_type": "code",
      "metadata": {
        "id": "9gIQaRsQbt77",
        "outputId": "a501b189-ca05-4682-df2d-8d0982b42dd9",
        "colab": {
          "base_uri": "https://localhost:8080/",
          "height": 139
        }
      },
      "source": [
        "gender = pd.crosstab(index=slasher_df['Gender'], columns='count')\n",
        "\n",
        "gender/gender.sum()*100\n"
      ],
      "execution_count": null,
      "outputs": [
        {
          "output_type": "execute_result",
          "data": {
            "text/html": [
              "<div>\n",
              "<style scoped>\n",
              "    .dataframe tbody tr th:only-of-type {\n",
              "        vertical-align: middle;\n",
              "    }\n",
              "\n",
              "    .dataframe tbody tr th {\n",
              "        vertical-align: top;\n",
              "    }\n",
              "\n",
              "    .dataframe thead th {\n",
              "        text-align: right;\n",
              "    }\n",
              "</style>\n",
              "<table border=\"1\" class=\"dataframe\">\n",
              "  <thead>\n",
              "    <tr style=\"text-align: right;\">\n",
              "      <th>col_0</th>\n",
              "      <th>count</th>\n",
              "    </tr>\n",
              "    <tr>\n",
              "      <th>Gender</th>\n",
              "      <th></th>\n",
              "    </tr>\n",
              "  </thead>\n",
              "  <tbody>\n",
              "    <tr>\n",
              "      <th>0</th>\n",
              "      <td>54.226804</td>\n",
              "    </tr>\n",
              "    <tr>\n",
              "      <th>1</th>\n",
              "      <td>45.773196</td>\n",
              "    </tr>\n",
              "  </tbody>\n",
              "</table>\n",
              "</div>"
            ],
            "text/plain": [
              "col_0       count\n",
              "Gender           \n",
              "0       54.226804\n",
              "1       45.773196"
            ]
          },
          "metadata": {
            "tags": []
          },
          "execution_count": 8
        }
      ]
    },
    {
      "cell_type": "markdown",
      "metadata": {
        "id": "ozFYFgE8JgXn"
      },
      "source": [
        "QUIZ: What percentage of the characters are **female** (gender = 0)? Run the cell below, and enter your percentage (*rounded to the nearest whole number*). Then run the QUIZ CHECK cell.\n",
        "\n",
        "---\n",
        "\n"
      ]
    },
    {
      "cell_type": "code",
      "metadata": {
        "id": "quYGdZz5J-s7",
        "outputId": "1ec5ee56-dccd-46ad-a8c6-419056a82f17",
        "colab": {
          "base_uri": "https://localhost:8080/",
          "height": 35
        }
      },
      "source": [
        "# This is an QUIZ cell. Run the cell, enter your answer.\n",
        "# Don't alter this cell if you want accurate feedback\n",
        "#------------------------------------------------------------------------------#\n",
        "female_percent = input()"
      ],
      "execution_count": null,
      "outputs": [
        {
          "output_type": "stream",
          "text": [
            "54\n"
          ],
          "name": "stdout"
        }
      ]
    },
    {
      "cell_type": "code",
      "metadata": {
        "id": "EKbpo1IJexVw",
        "outputId": "1c62bf46-8377-4ded-d073-8773095208d3",
        "colab": {
          "base_uri": "https://localhost:8080/",
          "height": 35
        }
      },
      "source": [
        "# QUIZ CHECK cell\n",
        "#------------------------------------------------------------------------------#\n",
        "assert female_percent == str(54), 'Double check your percentages.'\n",
        "print('Correct! Continue to the next question.')"
      ],
      "execution_count": null,
      "outputs": [
        {
          "output_type": "stream",
          "text": [
            "Correct! Continue to the next question.\n"
          ],
          "name": "stdout"
        }
      ]
    },
    {
      "cell_type": "markdown",
      "metadata": {
        "id": "Q79IYzM7bz4j"
      },
      "source": [
        "54%"
      ]
    },
    {
      "cell_type": "markdown",
      "metadata": {
        "id": "jnfrbmCvnMM_"
      },
      "source": [
        "###4) Calculate the frequency and relative frequency of character survival in this set of slasher films.  Describe your results in a sentence or two."
      ]
    },
    {
      "cell_type": "code",
      "metadata": {
        "id": "eATj3sKHnU_c",
        "outputId": "9d22d002-8f97-46c8-dc10-d1725303600e",
        "colab": {
          "base_uri": "https://localhost:8080/",
          "height": 139
        }
      },
      "source": [
        "survival = pd.crosstab(index=slasher_df['Survival'], columns='count')\n",
        "\n",
        "survival/survival.sum()*100\n"
      ],
      "execution_count": null,
      "outputs": [
        {
          "output_type": "execute_result",
          "data": {
            "text/html": [
              "<div>\n",
              "<style scoped>\n",
              "    .dataframe tbody tr th:only-of-type {\n",
              "        vertical-align: middle;\n",
              "    }\n",
              "\n",
              "    .dataframe tbody tr th {\n",
              "        vertical-align: top;\n",
              "    }\n",
              "\n",
              "    .dataframe thead th {\n",
              "        text-align: right;\n",
              "    }\n",
              "</style>\n",
              "<table border=\"1\" class=\"dataframe\">\n",
              "  <thead>\n",
              "    <tr style=\"text-align: right;\">\n",
              "      <th>col_0</th>\n",
              "      <th>count</th>\n",
              "    </tr>\n",
              "    <tr>\n",
              "      <th>Survival</th>\n",
              "      <th></th>\n",
              "    </tr>\n",
              "  </thead>\n",
              "  <tbody>\n",
              "    <tr>\n",
              "      <th>0</th>\n",
              "      <td>82.474227</td>\n",
              "    </tr>\n",
              "    <tr>\n",
              "      <th>1</th>\n",
              "      <td>17.525773</td>\n",
              "    </tr>\n",
              "  </tbody>\n",
              "</table>\n",
              "</div>"
            ],
            "text/plain": [
              "col_0         count\n",
              "Survival           \n",
              "0         82.474227\n",
              "1         17.525773"
            ]
          },
          "metadata": {
            "tags": []
          },
          "execution_count": 12
        }
      ]
    },
    {
      "cell_type": "markdown",
      "metadata": {
        "id": "VYiobiSMnXAT"
      },
      "source": [
        "82%"
      ]
    },
    {
      "cell_type": "markdown",
      "metadata": {
        "id": "YzjkSGa7gyWH"
      },
      "source": [
        "QUIZ: What percentage of female characters *survived*? Run the cell below, enter your percentage (*rounded to the nearest whole number*)."
      ]
    },
    {
      "cell_type": "code",
      "metadata": {
        "id": "zI9rL96ngFSb",
        "outputId": "d938752b-0b1c-496d-ab8a-791d04270a36",
        "colab": {
          "base_uri": "https://localhost:8080/",
          "height": 35
        }
      },
      "source": [
        "# This is an QUIZ cell. Run the cell, enter your answer.\n",
        "# Don't alter this cell if you want accurate feedback\n",
        "#------------------------------------------------------------------------------#\n",
        "female_percent_survival = input()"
      ],
      "execution_count": null,
      "outputs": [
        {
          "output_type": "stream",
          "text": [
            "82\n"
          ],
          "name": "stdout"
        }
      ]
    },
    {
      "cell_type": "code",
      "metadata": {
        "id": "oyhLDzDAgIxK",
        "outputId": "90559dbb-354a-4ba3-8c12-ca85b06e03cc",
        "colab": {
          "base_uri": "https://localhost:8080/",
          "height": 35
        }
      },
      "source": [
        "# QUIZ CHECK cell\n",
        "#------------------------------------------------------------------------------#\n",
        "assert female_percent_survival == str(82), 'Double check your percentages.'\n",
        "print('Correct! Continue to the next question.')"
      ],
      "execution_count": null,
      "outputs": [
        {
          "output_type": "stream",
          "text": [
            "Correct! Continue to the next question.\n"
          ],
          "name": "stdout"
        }
      ]
    },
    {
      "cell_type": "markdown",
      "metadata": {
        "id": "0K1kuj8yb5BD"
      },
      "source": [
        "### 5) Calculate the joint distribution of character sex and movie survival. \n",
        "\n",
        "Hint: If you are working from the in-class examples, it will be helpful to include character sex as the index variable. \n",
        "\n",
        "Describe your results in a sentence or two."
      ]
    },
    {
      "cell_type": "code",
      "metadata": {
        "id": "lBqo9mPJcApw",
        "outputId": "87117c89-ca35-40df-9bd4-89bbbf529761",
        "colab": {
          "base_uri": "https://localhost:8080/",
          "height": 106
        }
      },
      "source": [
        "# Calculate the joint distribution\n",
        "\n",
        "pd.crosstab(index=slasher_df['Gender'], columns=slasher_df['Survival'])\n"
      ],
      "execution_count": null,
      "outputs": [
        {
          "output_type": "stream",
          "text": [
            "Survival    0   1  All\n",
            "Gender                \n",
            "0         228  35  263\n",
            "1         172  50  222\n",
            "All       400  85  485\n"
          ],
          "name": "stdout"
        }
      ]
    },
    {
      "cell_type": "markdown",
      "metadata": {
        "id": "IRU0Hd1-wCpW"
      },
      "source": [
        "### 5b) Do the same as 5a) but **add the table margins**.  Assign this to a variable called `joint_dist_margins`."
      ]
    },
    {
      "cell_type": "code",
      "metadata": {
        "id": "PAe3sdeqoLnh",
        "outputId": "b2ef371c-fb51-449b-c188-3a0219c27fd2",
        "colab": {
          "base_uri": "https://localhost:8080/",
          "height": 106
        }
      },
      "source": [
        "# Add the table margins to the joint distribution\n",
        "\n",
        "joint_dist_margins = pd.crosstab(index=slasher_df['Gender'], columns=slasher_df['Survival'], margins=True)\n",
        "\n",
        "print(joint_dist_margins)\n"
      ],
      "execution_count": null,
      "outputs": [
        {
          "output_type": "stream",
          "text": [
            "Survival    0   1  All\n",
            "Gender                \n",
            "0         228  35  263\n",
            "1         172  50  222\n",
            "All       400  85  485\n"
          ],
          "name": "stdout"
        }
      ]
    },
    {
      "cell_type": "code",
      "metadata": {
        "id": "iLvgeckeeL9g",
        "outputId": "257f2be4-af0a-43e9-910e-2fba64039950",
        "colab": {
          "base_uri": "https://localhost:8080/",
          "height": 35
        }
      },
      "source": [
        "# This is an ANSWER CHECK cell.\n",
        "# Don't alter this cell if you want accurate feedback\n",
        "#------------------------------------------------------------------------------#\n",
        "\n",
        "# check if the DataFrame was created\n",
        "assert not joint_dist_margins.empty, 'Did you create your DataFrame with the joint distribution?'\n",
        "# check the shape of the DataFrame\n",
        "assert joint_dist_margins.shape == (3, 3), 'Did you include the margins?'\n",
        "print('Correct! Continue to the next question.')"
      ],
      "execution_count": null,
      "outputs": [
        {
          "output_type": "stream",
          "text": [
            "Correct! Continue to the next question.\n"
          ],
          "name": "stdout"
        }
      ]
    },
    {
      "cell_type": "markdown",
      "metadata": {
        "id": "63H4QMgKcDEp"
      },
      "source": [
        "SHORT ANSWER TEXT HERE"
      ]
    },
    {
      "cell_type": "markdown",
      "metadata": {
        "id": "Pf9boTsRpe9J"
      },
      "source": [
        "###6) Calculate the distribution of survival conditional on character sex.\n",
        "* assign the crosstab DataFrame to the variable `slasher_survival`\n",
        "* make sure to normalize on the \"index\"\n",
        "* multiply the resulting DataFrame by 100 to return answers as percents\n",
        "\n",
        "Hint: If you are working from the in-class examples, it will be helpful to include character sex as the index variable. \n",
        "\n",
        "Describe your results in a sentence or two in the cell below."
      ]
    },
    {
      "cell_type": "code",
      "metadata": {
        "id": "ByWE_M1RpqSy",
        "outputId": "8efb1f7b-7b87-4652-9f53-7379365e4c4f",
        "colab": {
          "base_uri": "https://localhost:8080/",
          "height": 139
        }
      },
      "source": [
        "# Create your slasher_survival DataFrame here\n",
        "\n",
        "slasher_survival = pd.crosstab(index = slasher_df['Gender'], columns= slasher_df['Survival'], normalize='index')*100\n",
        "\n",
        "slasher_survival"
      ],
      "execution_count": null,
      "outputs": [
        {
          "output_type": "execute_result",
          "data": {
            "text/html": [
              "<div>\n",
              "<style scoped>\n",
              "    .dataframe tbody tr th:only-of-type {\n",
              "        vertical-align: middle;\n",
              "    }\n",
              "\n",
              "    .dataframe tbody tr th {\n",
              "        vertical-align: top;\n",
              "    }\n",
              "\n",
              "    .dataframe thead th {\n",
              "        text-align: right;\n",
              "    }\n",
              "</style>\n",
              "<table border=\"1\" class=\"dataframe\">\n",
              "  <thead>\n",
              "    <tr style=\"text-align: right;\">\n",
              "      <th>Survival</th>\n",
              "      <th>0</th>\n",
              "      <th>1</th>\n",
              "    </tr>\n",
              "    <tr>\n",
              "      <th>Gender</th>\n",
              "      <th></th>\n",
              "      <th></th>\n",
              "    </tr>\n",
              "  </thead>\n",
              "  <tbody>\n",
              "    <tr>\n",
              "      <th>0</th>\n",
              "      <td>86.692015</td>\n",
              "      <td>13.307985</td>\n",
              "    </tr>\n",
              "    <tr>\n",
              "      <th>1</th>\n",
              "      <td>77.477477</td>\n",
              "      <td>22.522523</td>\n",
              "    </tr>\n",
              "  </tbody>\n",
              "</table>\n",
              "</div>"
            ],
            "text/plain": [
              "Survival          0          1\n",
              "Gender                        \n",
              "0         86.692015  13.307985\n",
              "1         77.477477  22.522523"
            ]
          },
          "metadata": {
            "tags": []
          },
          "execution_count": 24
        }
      ]
    },
    {
      "cell_type": "code",
      "metadata": {
        "id": "t-MfaLjCnt6i",
        "outputId": "2f03976d-96e7-436f-80c1-dc936056e4ed",
        "colab": {
          "base_uri": "https://localhost:8080/",
          "height": 35
        }
      },
      "source": [
        "# This is an ANSWER CHECK cell.\n",
        "# Don't alter this cell if you want accurate feedback\n",
        "#------------------------------------------------------------------------------#\n",
        "\n",
        "# check if the DataFrame was created\n",
        "assert not slasher_survival.empty, 'Did you calculate the distribution?'\n",
        "# check the shape of the DataFrame\n",
        "assert round(slasher_survival[0][0]) == 87.0, 'Is your DataFrame normalized and converted to a percent?'\n",
        "print('Correct! Continue to the next question.')"
      ],
      "execution_count": null,
      "outputs": [
        {
          "output_type": "stream",
          "text": [
            "Correct! Continue to the next question.\n"
          ],
          "name": "stdout"
        }
      ]
    },
    {
      "cell_type": "markdown",
      "metadata": {
        "id": "tdtRWqwcpquG"
      },
      "source": [
        "SHORT ANSWER TEXT HERE"
      ]
    },
    {
      "cell_type": "markdown",
      "metadata": {
        "id": "ODJU68cMKJ57"
      },
      "source": [
        "###7) Identify the appropriate null and alternative hypotheses to test for a statistically significant relationship between character sex and survival. \n",
        "\n",
        "**Ho:** There is no relationship between character sex and movie survival.\n",
        "\n",
        "**Ha:**. There is a relationship between character sex and movie survival."
      ]
    },
    {
      "cell_type": "markdown",
      "metadata": {
        "id": "RXPZZuAi3ccI"
      },
      "source": [
        "### 8) Perform the chi-square test above using `stats.chi2_contingency()`. The docs for this function are found [here](https://docs.scipy.org/doc/scipy/reference/generated/scipy.stats.chi2_contingency.html).\n",
        "\n",
        "* assign the p-value to the variable `p_val`\n",
        "* assign the other variables to whatever names you prefer\n"
      ]
    },
    {
      "cell_type": "code",
      "metadata": {
        "id": "Ckcr4A4FM7cs",
        "outputId": "e8e30d38-6002-49b4-e8dd-08f190a076fa",
        "colab": {
          "base_uri": "https://localhost:8080/",
          "height": 35
        }
      },
      "source": [
        "# Perform the chi-square test\n",
        "from scipy.stats import chi2_contingency\n",
        "\n",
        "g, p_val, dof, expctd = chi2_contingency(pd.crosstab(slasher_df['Gender'], slasher_df['Survival']))\n",
        "\n",
        "print(p_val)"
      ],
      "execution_count": null,
      "outputs": [
        {
          "output_type": "stream",
          "text": [
            "0.011104692591139975\n"
          ],
          "name": "stdout"
        }
      ]
    },
    {
      "cell_type": "code",
      "metadata": {
        "id": "rxfmQ5dhd-uU",
        "outputId": "5958a0f4-cc09-4cab-dcc4-872c9184a068",
        "colab": {
          "base_uri": "https://localhost:8080/",
          "height": 35
        }
      },
      "source": [
        "# This is an ANSWER CHECK cell.\n",
        "# Don't alter this cell if you want accurate feedback\n",
        "#------------------------------------------------------------------------------#\n",
        "\n",
        "# check the p_val\n",
        "assert round(p_val, 2) == 0.01, 'Double-check the variables you returned; p_val should be the second in the list'\n",
        "print('Correct! Continue to the next question.')"
      ],
      "execution_count": null,
      "outputs": [
        {
          "output_type": "stream",
          "text": [
            "Correct! Continue to the next question.\n"
          ],
          "name": "stdout"
        }
      ]
    },
    {
      "cell_type": "markdown",
      "metadata": {
        "id": "Tf7XPpBP6YqX"
      },
      "source": [
        "### 9) Interpret your p-value in 8) using the alpha = 0.05 significance level, and summarize your results in a sentence or two."
      ]
    },
    {
      "cell_type": "markdown",
      "metadata": {
        "id": "N5v6Sca8LDmy"
      },
      "source": [
        "Since the p-value is less than the significance level, we will reject the null hypothesis."
      ]
    },
    {
      "cell_type": "markdown",
      "metadata": {
        "id": "6fuCbToDLTO0"
      },
      "source": [
        "### 10) Create a side-by-side bar plot to illustrate the relationship between character sex and survival in slasher movies.  Sum up your overall results in a sentence or two."
      ]
    },
    {
      "cell_type": "code",
      "metadata": {
        "id": "Jg602szeZyjN",
        "outputId": "4b9e1b08-995a-490b-acc0-cbf485311f3b",
        "colab": {
          "base_uri": "https://localhost:8080/",
          "height": 139
        }
      },
      "source": [
        "slasher_survival"
      ],
      "execution_count": null,
      "outputs": [
        {
          "output_type": "execute_result",
          "data": {
            "text/html": [
              "<div>\n",
              "<style scoped>\n",
              "    .dataframe tbody tr th:only-of-type {\n",
              "        vertical-align: middle;\n",
              "    }\n",
              "\n",
              "    .dataframe tbody tr th {\n",
              "        vertical-align: top;\n",
              "    }\n",
              "\n",
              "    .dataframe thead th {\n",
              "        text-align: right;\n",
              "    }\n",
              "</style>\n",
              "<table border=\"1\" class=\"dataframe\">\n",
              "  <thead>\n",
              "    <tr style=\"text-align: right;\">\n",
              "      <th>Survival</th>\n",
              "      <th>0</th>\n",
              "      <th>1</th>\n",
              "    </tr>\n",
              "    <tr>\n",
              "      <th>Gender</th>\n",
              "      <th></th>\n",
              "      <th></th>\n",
              "    </tr>\n",
              "  </thead>\n",
              "  <tbody>\n",
              "    <tr>\n",
              "      <th>0</th>\n",
              "      <td>86.692015</td>\n",
              "      <td>13.307985</td>\n",
              "    </tr>\n",
              "    <tr>\n",
              "      <th>1</th>\n",
              "      <td>77.477477</td>\n",
              "      <td>22.522523</td>\n",
              "    </tr>\n",
              "  </tbody>\n",
              "</table>\n",
              "</div>"
            ],
            "text/plain": [
              "Survival          0          1\n",
              "Gender                        \n",
              "0         86.692015  13.307985\n",
              "1         77.477477  22.522523"
            ]
          },
          "metadata": {
            "tags": []
          },
          "execution_count": 35
        }
      ]
    },
    {
      "cell_type": "code",
      "metadata": {
        "id": "Et5DtusY6maX",
        "outputId": "32e2988d-2ce2-411e-cb3f-ab8a37661ab8",
        "colab": {
          "base_uri": "https://localhost:8080/",
          "height": 281
        }
      },
      "source": [
        "# Plot time!\n",
        "import matplotlib.pyplot as plt\n",
        "\n",
        "N = 2\n",
        "Died = (87, 77)\n",
        "Survived = (13, 23)\n",
        "\n",
        "ind = np.arange(N)\n",
        "width = 0.35\n",
        "\n",
        "fig, ax = plt.subplots()\n",
        "rects1 = ax.bar(ind, Died, width, color='red')\n",
        "rects2 = ax.bar(ind + width, Survived, width, color='orange')\n",
        "\n",
        "ax.set_ylabel('Percent')\n",
        "ax.set_title('Percent of Female/Male character survival in Slasher Films')\n",
        "ax.set_xticks(ind + width / 2)\n",
        "ax.set_xticklabels(('Female', 'Male'))\n",
        "\n",
        "ax.legend((rects1[0], rects2[0]), ('Died', 'Survived'))\n",
        "plt.show()"
      ],
      "execution_count": null,
      "outputs": [
        {
          "output_type": "display_data",
          "data": {
            "image/png": "[encoded data removed]",
            "text/plain": [
              "<Figure size 432x288 with 1 Axes>"
            ]
          },
          "metadata": {
            "tags": [],
            "needs_background": "light"
          }
        }
      ]
    },
    {
      "cell_type": "markdown",
      "metadata": {
        "id": "Juj8P8RgLoiZ"
      },
      "source": [
        "Female characters are more likely to die and also less likely to die, while their male counterparts are less likely to die and more likely to survive."
      ]
    }
  ]
}